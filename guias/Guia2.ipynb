{
  "cells": [
    {
      "cell_type": "markdown",
      "metadata": {
        "id": "-AZRHOqQ0vUD"
      },
      "source": [
        "## **GUIA 2**\n",
        "\n"
      ]
    },
    {
      "cell_type": "markdown",
      "metadata": {
        "id": "A-ajOmvFfkkW"
      },
      "source": [
        "## **La ecuación de Burgers**\n",
        "\n",
        "\n"
      ]
    },
    {
      "cell_type": "markdown",
      "metadata": {
        "id": "EImS7gTND-eG"
      },
      "source": [
        "\n",
        "La ecuación de Burgers\n",
        "\n",
        "\\begin{equation}\n",
        "    \\frac{\\partial u}{\\partial t} + u \\frac{\\partial u}{\\partial x} - \\nu \\frac{\\partial^2 u}{\\partial x^2} = 0.                          \n",
        "\\end{equation}\n",
        "\n",
        "Forma parte de un grupo de ecuaciones no-lineales en derivadas parciales\n",
        "\"universales\" que aparecen en muchos contextos.\n",
        "\n",
        "En rigor, fue introducida en 1915 por Bateman [1], quien propuso una\n",
        "solución de estado estacionario para el problema. Más\n",
        "tarde, en 1948, el físico holandés J. M. Burgers, propuso\n",
        "esta ecuación como modelo matemático de turbulencia [2,\n",
        "3] y debido a su amplia contribución, la ecuación lleva su\n",
        "nombre. A pesar de ser una versión simplificada de la ecuación de Navier Stokes,\n",
        "se caracteriza por tener un término\n",
        "dependiente del tiempo, un término de advección y un\n",
        "término de difusión, con lo cual guarda la no-linealidad y las principales características de esta.\n",
        "Se utiliza muchas veces como modelo de juguete para testear implementaciones numéricas de flujos turbulentos.\n",
        "\n",
        "En su forma mas general (con el término de difusión) la ecuación es del tipo parabólica, mientras que en el caso ideal (invisido) es una ecuación hiperbólica. En ambos casos, resulta útil buscar leyes de conservación, de camino a las soluciones.\n",
        "\n",
        "[1] Bateman, H., Some recent researches on the motion of\n",
        "fluids, Monthy Wather Rev. 43, 163-170 (1915).\n",
        "\n",
        "[2] Burgers, J. M., A mathematical model illustrating the\n",
        "theory or turbulence, Advances in Applied Mechanics 1,\n",
        "171-199 (1948).\n",
        "\n",
        "[3] Burgers, J. M., Mathematical examples illustrating\n",
        "relations occuring in the theory of turbulent fluid motion,\n",
        "Trans. Roy. Neth. Acad. Sci. Amsterdam 1. 17, 1-53\n",
        "(1939)."
      ]
    },
    {
      "cell_type": "markdown",
      "metadata": {
        "id": "4zkTzvukpmw-"
      },
      "source": [
        "## **Ejercicio 1**"
      ]
    },
    {
      "cell_type": "markdown",
      "metadata": {
        "id": "pR2hKWZMprtL"
      },
      "source": [
        "\n",
        "$\\bf a)$ Mostrar que esta ecuación conserva el momento incluso para $\\nu \\neq 0$.\n",
        "\n",
        "$\\bf b)$ A partir de la ecuación de balance mostrá la conservación local de la energía. Bajo que condiciones se conserva la energía global?\n",
        "\n",
        "$\\bf c)$ Explica la aparición de \"frentes\" a partir de la ecuación para la evolución de los gradientes. (*Ayuda: esto puede hacerce derivando la ecuación de Burgers con respecto de x*)\n",
        "\n",
        "$\\bf d)$ Mediante la sustitución: $u(x,t) = -2\\nu \\partial_x\\phi/\\phi$ (transformación de Hopf) es posible hallar la solución exacta de (1). Escribí la ecuación. Que tipo de soluciones tiene? Describí la aparición de frentes en términos de estas soluciones."
      ]
    },
    {
      "cell_type": "markdown",
      "metadata": {
        "id": "y1Ohemkqyy4W"
      },
      "source": [
        "\n",
        "\n",
        "---\n",
        "**Resolución aqui**\n",
        "\n",
        "\n",
        "---\n",
        "\n"
      ]
    },
    {
      "cell_type": "markdown",
      "metadata": {},
      "source": [
        "### a)\n",
        "Para observar la conservación del momento en la Ecuación de Burgers podemos reescribirla como:\n",
        "$$\\frac{\\partial u}{\\partial t} + \\frac{\\partial}{\\partial x}\\left(\\frac{u^2}{2} - \\nu \\frac{\\partial u}{\\partial x}\\right) = 0.$$\n",
        "Luego, si integramos respecto de $x$ en el intervalo $[a,b]$ obtenemos:\n",
        "$$\\int\\limits_a^b \\frac{\\partial u}{\\partial t} \\,\\mathrm{d}x + \\int\\limits_a^b \\frac{\\partial}{\\partial x}\\left(\\frac{u^2}{2} - \\nu \\frac{\\partial u}{\\partial x}\\right) \\,\\mathrm{d}x = 0,$$\n",
        "$$\\Rightarrow \\frac{\\partial}{\\partial t}\\int\\limits_a^b u \\,\\mathrm{d}x + \\left[\\frac{u^2}{2} - \\nu \\frac{\\partial u}{\\partial x}\\right]_a^b = 0.$$\n",
        "Tomando ahora que $u(a,t) = u(b,t)$ (condiciones de borde comptabiles con un flujo periódico o con extremos cerrados) se tiene que el segundo término se anula, obteniendo:\n",
        "$$\\frac{\\partial}{\\partial t}\\int\\limits_a^b u \\,\\mathrm{d}x = 0.$$\n",
        "Luego, como $\\int_a^b u \\,\\mathrm{d}x = 0$ puede sumarse el término $u \\frac{\\partial}{\\partial x} \\int_a^b u \\, \\mathrm{d}x$ a la ecuación sin alterarla, obteniendo la derivada total de la integral:\n",
        "$$\\frac{\\mathrm{d}}{\\mathrm{d}t}\\int\\limits_a^b u \\,\\mathrm{d}x = 0,$$\n",
        "siendo la integral en el lado izquierdo la cantidad de momento en el intervalo $[a,b]$."
      ]
    },
    {
      "cell_type": "markdown",
      "metadata": {},
      "source": [
        "### b)\n",
        "Para mostrar la conservación de la energía multiplico la ecuación de Burgers por $u$ y reescribo la ecuación como:\n",
        "$$\n",
        "\\begin{align*}\n",
        " u\\frac{\\partial u}{\\partial t} + u^2\\frac{\\partial}{\\partial x}u & = & \\nu u \\frac{\\partial^2 u}{\\partial x^2} \\\\\n",
        " \\iff \\frac{\\partial}{\\partial t}\\!\\left(\\frac{u^2}{2}\\right) + u\\frac{\\partial}{\\partial x}\\!\\left(\\frac{u^2}{2}\\right) & = & \\nu u \\frac{\\partial^2 u}{\\partial x^2} \\\\\n",
        " \\iff \\frac{\\mathrm{d}}{\\mathrm{d}t}\\!\\left(\\frac{u^2}{2}\\right) & = & \\nu u \\frac{\\partial^2 u}{\\partial x^2} \\\\\n",
        "\\end{align*}.$$\n",
        "Observando que $\\frac{u^2}{2}$ es la energía, se tiene que hay una perdida de energía local debido a la difusión, por lo que solo se conservará en el caso de que no haya difusión ($\\nu = 0$). Ahora, para estudiar la conservación global de la energía, queremos ver si la integral en el recinto (entre $a$ y $b$) de $\\frac{u^2}{2}$ varía en el tiempo. Para ello integramos la segunda ecuación de arriba en el intervalo $[a, b]$:\n",
        "$$\\int\\limits_a^b \\frac{\\partial}{\\partial t} \\left(\\frac{u^2}{2}\\right) \\!\\mathrm{d}x + \\int\\limits_a^b u\\frac{\\partial}{\\partial x} \\left(\\frac{u^2}{2}\\right) \\!\\mathrm{d}x = \\int\\limits_a^b \\nu u \\frac{\\partial^2 u}{\\partial x^2} \\!\\mathrm{d}x,$$\n",
        "$$\\iff \\frac{\\partial}{\\partial t} \\int\\limits_a^b \\left(\\frac{u^2}{2}\\right) \\!\\mathrm{d}x + \\int\\limits_a^b u^2\\frac{\\partial u}{\\partial x} \\!\\mathrm{d}x = \\int\\limits_a^b \\nu u \\frac{\\partial^2 u}{\\partial x^2} \\!\\mathrm{d}x,$$\n",
        "$$\\iff \\frac{\\partial}{\\partial t} \\int\\limits_a^b \\left(\\frac{u^2}{2}\\right) \\!\\mathrm{d}x + \\int\\limits_a^b \\frac{\\partial}{\\partial x} \\left(\\frac{u^3}{3}\\right) \\!\\mathrm{d}x = \\int\\limits_a^b \\nu u \\frac{\\partial^2 u}{\\partial x^2} \\!\\mathrm{d}x,$$\n",
        "$$\\iff \\frac{\\partial}{\\partial t} \\int\\limits_a^b \\left(\\frac{u^2}{2}\\right) \\!\\mathrm{d}x + \\left[\\frac{u^3}{3}\\right]_a^b = \\int\\limits_a^b \\nu u \\frac{\\partial^2 u}{\\partial x^2} \\!\\mathrm{d}x,$$\n",
        "\n",
        "Al mismo tiempo, el término de la derecha puede desarrollarse por partes según:\n",
        "$$\\int\\limits_a^b \\nu u \\frac{\\partial^2 u}{\\partial x^2} \\!\\mathrm{d}x = \\left[\\nu u \\frac{\\partial u}{\\partial x}\\right]_a^b - \\int\\limits_a^b \\nu \\left(\\frac{\\partial u}{\\partial x}\\right)^2 \\!\\mathrm{d}x.$$\n"
      ]
    },
    {
      "cell_type": "markdown",
      "metadata": {
        "id": "4iN3hxK0qXJc"
      },
      "source": [
        "## **Ejercicio 2: Burgers con diferencias finitas**"
      ]
    },
    {
      "cell_type": "markdown",
      "metadata": {
        "id": "b5W7LPm2sAwy"
      },
      "source": [
        "$\\bf a)$ Derivá la expresión para resolver numéricamente la ecuación de Burgers mediante un método de diferencias finitas con un esquema de Euler adelantado como integrador temporal.\n",
        "\n",
        "$\\bf b)$ Implementá numericamente esta expresión para resolver la ecuación en un dominio $[0,2\\pi)$ considerando los siguientes parámetros: $\\nu = 1\\times 10^{-2}$ con $N_x = 512$ puntos de grilla y $\\Delta t = 1\\times10^{-3}$. Utilizá distintas condiciones iniciales del tipo:\n",
        "\n",
        "$$ u_0 = sen(ax)$$\n",
        "$$ u_0 = cos(x) + cos(bx) + sen(ax) $$\n",
        "\n",
        "con a, b constantes arbitrarias.\n",
        "\n",
        "$\\bf c)$ De qué depende la aparición de los frentes? Siempre se ven? Graficá la solución obtenida ($u(x,t)$) para distintos tiempos sucesivos.\n",
        "\n",
        "$\\bf d)$ Qué sucede si comienzo con una velocidad inicial nula?\n"
      ]
    },
    {
      "cell_type": "markdown",
      "metadata": {
        "id": "-TOJQNCq1MCx"
      },
      "source": [
        "\n",
        "\n",
        "---\n",
        "\n",
        "**Resolucion aqui**\n",
        "\n",
        "---\n",
        "\n"
      ]
    },
    {
      "cell_type": "markdown",
      "metadata": {
        "id": "KqEI9W8LXTkb"
      },
      "source": [
        "**Pueden usar las siguientes líneas para implementar el método numérico**"
      ]
    },
    {
      "cell_type": "code",
      "execution_count": null,
      "metadata": {
        "id": "-YyigF_DUB3l"
      },
      "outputs": [],
      "source": [
        "#Defino lo que voy a necesitar\n",
        "\n",
        "nx = 512\n",
        "nt = 1000\n",
        "dx = 2 * np.pi / (nx - 1)\n",
        "nu = .01\n",
        "dt = 1e-3\n",
        "\n",
        "x = np.linspace(0,2*np.pi,nx,endpoint=False) # Coordenada espacial en [0,2*pi)\n",
        "t = np.arange(nt)*dt\n"
      ]
    },
    {
      "cell_type": "code",
      "execution_count": null,
      "metadata": {
        "id": "xyeB2whMMc5s"
      },
      "outputs": [],
      "source": [
        "u = np.zeros([nx, nt])  # Array con la velocidad\n",
        "u[0, :] = 0  # condición de contorno en x=0\n",
        "u[nx-1, :] = 0  #  condición de contorno en  x=xmax\n",
        "\n",
        "\n",
        "u[:, 0] = # alguna condicion inicial\n",
        "\n",
        "\n",
        "for n in range(nt-1):\n",
        "    u[1:nx-1, n+1] = (u[1:nx-1, n] +\n",
        "                      dt * (nu * (u[2:nx, n] - 2 *...   #completar para integrar (fijate como es la expresión que te pedimos)"
      ]
    },
    {
      "cell_type": "markdown",
      "metadata": {
        "id": "JwApUw_yqClf"
      },
      "source": [
        "## **Ejercicio 3: Burgers con métodos pseudoespectrales**"
      ]
    },
    {
      "cell_type": "markdown",
      "metadata": {
        "id": "8lTEvgmfqG3w"
      },
      "source": [
        "Implementá un método de Fourier con condiciones de contorno periódicas en el dominio $x \\in [0,2\\pi)$ para resolver numericamente la ecuación de Burgers, considerando las mismas condiciones iniciales del ejercicio anterior y utilizando un método de Runge Kutta de orden dos como integrador temporal.\n",
        "\n",
        "$\\bf a)$ Integrá hasta $t_f = 4$ considerando los siguientes parámetros: $\\nu = 0$, $N_x = 512$ puntos de grilla y $\\Delta t = 1\\times10^{-3}$, verificá cualitativamente la solución hallada y estudia la conservación de la energía. *Ayuda: podes calcular la energía (a menos de una constante) dado un arreglo* $u[t,x]$ como `E = np.mean(u**2, axis=1)`\n",
        "\n",
        "$\\bf b)$ Considerando los siguientes parámetros: $\\nu = 1\\times 10^{-2}$ con $N_x = 512$ puntos de grilla y $\\Delta t = 1\\times10^{-3}$, graficá la solución obtenida ($u(x,t)$) hasta que la amplitud inicial cae a la mitad. Describi\n",
        "cualitativamente la dinámica.\n",
        "\n",
        "$\\bf c)$ Que sucede si se  aumenta la viscocidad a $\\nu = 1\\times 10^{-1}$? Y si se la disminuye a $\\nu = 1\\times 10^{-3}$?."
      ]
    },
    {
      "cell_type": "markdown",
      "metadata": {
        "id": "nHvCtm2I1TgX"
      },
      "source": [
        "\n",
        "\n",
        "---\n",
        "\n",
        "**Resolución aquí**\n",
        "\n",
        "\n",
        "---\n",
        "\n",
        "\n",
        "\n",
        "\n"
      ]
    },
    {
      "cell_type": "markdown",
      "metadata": {
        "id": "rvWdk58hJI_-"
      },
      "source": [
        "## **Bloques para la integración temporal**\n",
        "\n",
        "Pueden completar el siguiente bloque para implementar la evolcuión temporal de la PDE con RK de orden dos y luego el método espectral"
      ]
    },
    {
      "cell_type": "code",
      "execution_count": null,
      "metadata": {
        "id": "85c9b691"
      },
      "outputs": [],
      "source": [
        "#Defino mis puntos en el espacio real y los modos para el espacio de Fourier\n",
        "x = np.linspace(0,2*np.pi,N,endpoint=False) # Coordenada espacial en [0,2*pi)\n",
        "t = np.arange(step)*dt                      # Tiempo\n",
        "k = np.arange(0,N/2+1)                      # Números de onda ordenados como en la FFT"
      ]
    },
    {
      "cell_type": "code",
      "execution_count": null,
      "metadata": {
        "id": "RRfbJHDTJHIe"
      },
      "outputs": [],
      "source": [
        "def evol(u,k,nu,N,dt):\n",
        "    # Evoluciona en el tiempo la PDE usando el método pseudoespectral y Runge-Kutta de segundo orden\n",
        "    f  = np.fft.rfft(u)     #vaya al espacio de Fourier\n",
        "    ft = f\n",
        "    for ord in [2,1]:       # Bucle para el Runge-Kutta\n",
        "        D   = dt/ord\n",
        "        fux = compute_advection(f,k,N)\n",
        "        f   =                # escriba aquí su integrador temporal\n",
        "        f[int(N/3):] =     # Dealiasing (eliminemos modos espúreos!)\n",
        "    out = np.fft.irfft(f)  #Vuelva del espacio de Fourier\n",
        "    return out\n",
        "\n",
        "def compute_advection(f,k,N):\n",
        "    # Calcula v*vx usando el método pseudoespectral y devuelve el resultado en el espacio Fourier\n",
        "    fx  = 1j*k*f                      #derivamos\n",
        "    v   =  np.fft.irfft(f)            # vuelva para poder multiplicar!\n",
        "    vx  =                             # eso de arriba\n",
        "    v   = v*vx\n",
        "    out = np.fft.rfft(v)\n",
        "    return out"
      ]
    },
    {
      "cell_type": "markdown",
      "metadata": {
        "id": "wNziSbHqLV2c"
      },
      "source": [
        "## **Y ahora la integración numérica!**"
      ]
    },
    {
      "cell_type": "code",
      "execution_count": null,
      "metadata": {
        "id": "ptyN9JbaLVJr"
      },
      "outputs": [],
      "source": [
        "out = np.zeros((N,step))\n",
        "out[:,0] = u\n",
        "for i in np.arange(step-1): # Evolución temporal\n",
        "    out[:,i+1] = evol()     #Completa para integrar (mira el bloque anterior)"
      ]
    },
    {
      "cell_type": "markdown",
      "metadata": {
        "id": "VfVVpf5rq6mR"
      },
      "source": [
        "## **Ejercicio 4: Burgers con PINNS**"
      ]
    },
    {
      "cell_type": "markdown",
      "metadata": {
        "id": "Qqo922Fz1BK_"
      },
      "source": [
        "Integre la ecuación de Burgers usando PINNs. En este caso, vamos a utilizar las PINNs como un integrador a partir de las condiciones iniciales.\n",
        "\n",
        "Para ello, vamos a partir de una condición inicial $u_0(x,0) = \\sin ( x)$ con $x \\in [0,2 \\pi]$. Además, vamos a poner condiciones de contorno tal que $u(0,t) = u(2 \\pi,t) = 0$. Estos van a ser los datos que tenemos medidos del problema.\n",
        "\n",
        "\n",
        "a) Usando la condición inicial descrita y con $\\nu = 0$ use una PINN para integrar para $t \\in [0,1]$. Grafique la solución de la red para distintos tiempos. Grafique $u(x,t)$ completo en todos los puntos donde evalua la física como una imagen. Interprete lo que ve. ¿Qué diferencias encuentra con lo visto en otros ejercicios? ¿Se cumple la conservación para la integral primera? [importante: Seleccione los parámetros por su cuenta]\n",
        "\n",
        "b) Repita el punto $a$ pero con $\\nu = 1 \\times 10^{-2}$. Grafique para distintos tiempos y la matriz de  $u(x,t)$. Compare con la solución obtenida con métodos pseudoespectrales. Describa las diferencias que encuentra."
      ]
    },
    {
      "cell_type": "markdown",
      "metadata": {
        "id": "kj7h4qgoSWBL"
      },
      "source": [
        "Importamos las librerías correspondientes"
      ]
    },
    {
      "cell_type": "code",
      "execution_count": null,
      "metadata": {
        "id": "qo-0xoLNRrfE"
      },
      "outputs": [],
      "source": [
        "import numpy as np\n",
        "import matplotlib.pyplot as plt\n",
        "import torch\n",
        "import scipy\n",
        "from torch.autograd import Variable\n",
        "device = torch.device(\"cuda:0\" if torch.cuda.is_available() else \"cpu\")"
      ]
    },
    {
      "cell_type": "markdown",
      "metadata": {
        "id": "-A3uEsRkSYYu"
      },
      "source": [
        "Definimos la clase MLP"
      ]
    },
    {
      "cell_type": "code",
      "execution_count": null,
      "metadata": {
        "id": "KxJ9d_uFSYDX"
      },
      "outputs": [],
      "source": [
        "class MLP(torch.nn.Module):\n",
        "    \"\"\"\n",
        "    Multilayer perceptron (MLP) // Perceptríon Multicapa .\n",
        "\n",
        "    Esta clase define una red neuronal feedforward con múltiples capas ocultas\n",
        "    lineales, funciones de activación tangente hiperbólica en  las capas ocultas\n",
        "    y una salida lineal.\n",
        "\n",
        "    Args:\n",
        "        sizes (lista): Lista de enteros que especifica el número de neuronas en\n",
        "        cada capa. El primer elemento debe coincidir con la dimensión de entrada\n",
        "        y el último con la dimensión de salida.\n",
        "\n",
        "    Atributos:\n",
        "        capas (torch.nn.ModuleList): Lista que contiene las capas lineales del MLP.\n",
        "\n",
        "    Métodos:\n",
        "        forward(x): Realiza una pasada hacia adelante a través de la red MLP.\n",
        "\n",
        "    Ejemplo:\n",
        "        tamaños = [entrada_dim, oculta1_dim, oculta2_dim, salida_dim]\n",
        "        mlp = MLP(tamaños)\n",
        "        tensor_entrada = torch.tensor([...])\n",
        "        salida = mlp(tensor_entrada)\n",
        "    \"\"\"\n",
        "    def __init__(self,sizes):\n",
        "        super().__init__()\n",
        "        self.layers = torch.nn.ModuleList()\n",
        "        for i in range(len(sizes)-1):\n",
        "            self.layers.append(torch.nn.Linear(sizes[i],sizes[i+1]))\n",
        "    def forward(self,x):\n",
        "        h = x\n",
        "        for hidden in self.layers[:-1]:\n",
        "            h = torch.tanh(hidden(h))\n",
        "        output = self.layers[-1]\n",
        "        y = output(h)\n",
        "        return y"
      ]
    },
    {
      "cell_type": "markdown",
      "metadata": {
        "id": "3Do_jJxJSeCs"
      },
      "source": [
        "Definimos las condiciones iniciales y condiciones de contorno"
      ]
    },
    {
      "cell_type": "code",
      "execution_count": null,
      "metadata": {
        "id": "0md2wzBj5o4v"
      },
      "outputs": [],
      "source": [
        "#Condiciones en t = 0\n",
        "t_data_init  =  #defina 100 puntos entre 0 y 1   No olvidar .view(-1,1)\n",
        "x_data_init  =  #defina 100 puntos entre 0 y 2pi No olvidar .view(-1,1)\n",
        "y_data_init  =  #defina la condicion inicial     No olvidar .view(-1,1)\n",
        "input_init = torch.cat((x_data_init.flatten().view(-1,1), t_data_init.flatten().view(-1,1)), dim=1) #Junta las condiciones iniciales para que tengan la forma correcta"
      ]
    },
    {
      "cell_type": "code",
      "execution_count": null,
      "metadata": {
        "id": "t7ekOSlF5o4w"
      },
      "outputs": [],
      "source": [
        "#condiciones de contorno\n",
        "t_data_cc    = torch.cat((torch.linspace(0,1,100), torch.linspace(0,1,100)), dim = 0).view(-1,1) #100 puntos temporales dos veces\n",
        "x_data_cc    = 2*torch.pi* torch.cat((torch.zeros(100), torch.ones(100)), dim = 0).view(-1,1) #100 puntos en 0 y 100 en 1\n",
        "y_data_cc    = torch.cat((torch.zeros(100), torch.zeros(100)), dim = 0 ).view(-1,1) #200 puntos que valen 0\n",
        "input_cc = torch.cat((x_data_cc.flatten().view(-1,1), t_data_cc.flatten().view(-1,1)), dim=1) #Los juntamos para que pueda ser input la red"
      ]
    },
    {
      "cell_type": "markdown",
      "metadata": {
        "id": "ffpWJcvOVk-1"
      },
      "source": [
        "Definimos los puntos para evaluar la física. Estos deberán ser una grilla de 100x100 en el tiempo y el espacio."
      ]
    },
    {
      "cell_type": "code",
      "execution_count": null,
      "metadata": {
        "id": "rcJyhuva5i9I"
      },
      "outputs": [],
      "source": [
        "t_physics = #100 puntos de 0 a 1\n",
        "x_physics = #100 puntos de 0 a 2 pi\n",
        "x_grid, t_grid = torch.meshgrid(t_physics, x_physics, indexing='ij')\n",
        "x_grid = x_grid[:,:,None].requires_grad_(True) #Agregamos una dimensión al final para que pueda ser input de la red\n",
        "t_grid = t_grid[:,:,None].requires_grad_(True) #Agregamos una dimensión al final para que pueda ser input de la red\n",
        "input_physics = torch.cat((x_grid, t_grid), dim=-1)"
      ]
    },
    {
      "cell_type": "markdown",
      "metadata": {
        "id": "lm7CcNpLV463"
      },
      "source": [
        "Defina la red y el optimizador. Se recomienda para empezar a explorar una red con $8$ capas ocultas con $20$ neuronas cada una. Use el peso relativo entre la física y lo demás como 1."
      ]
    },
    {
      "cell_type": "code",
      "execution_count": null,
      "metadata": {
        "id": "4hRVBL5KWQK_"
      },
      "outputs": [],
      "source": [
        "#Definición de la red y optimizador"
      ]
    },
    {
      "cell_type": "markdown",
      "metadata": {
        "id": "xANhm0jNWQr9"
      },
      "source": [
        "Complete con lo que sea necesario el loop de entrenamiento"
      ]
    },
    {
      "cell_type": "code",
      "execution_count": null,
      "metadata": {
        "id": "SE5RqcHDWWWu"
      },
      "outputs": [],
      "source": [
        "iterations =  #Numero de iteraciones\n",
        "l =    #Peso relativo lambda\n",
        "\n",
        "for epoch in range(iterations):\n",
        "    optimizer.zero_grad()\n",
        "    #Condiciones iniciales\n",
        "    yh =      #Evalue las condiciones iniciales en la red\n",
        "    loss1 =   #Defina este error como el MSE de la condición inicial\n",
        "    #condiciones de contorno\n",
        "    yh =       #Evalue las condiciones de contorno en la red\n",
        "    loss2 =    #Defina este error como el MSE de las condiciones de contorno\n",
        "    #Condiciones de la física\n",
        "    yhp =      #Evalue las colocaciones de la física en la red\n",
        "    dx  = torch.autograd.grad(yhp, x_grid, torch.ones_like(yhp), create_graph=True)[0]# computamos u_x\n",
        "    dx2  = torch.autograd.grad(dx, x_grid, torch.ones_like(yhp), create_graph=True)[0]# computamos u_xx\n",
        "    dt  = torch.autograd.grad(yhp, t_grid, torch.ones_like(yhp), create_graph=True)[0]# computamos u_t\n",
        "    physics =  #Complete con la ecuación diferencial\n",
        "    loss3 =    #Defina este error como el MSE de la ecuación diferencial en las colocaciones pesado por l\n",
        "    loss = loss1 + loss2 + loss3  #Sumamos todos los errores\n",
        "    loss.backward()\n",
        "    optimizer.step()\n",
        "    with torch.autograd.no_grad():\n",
        "    \tprint(epoch,'CI',float(loss1), 'CC', float(loss2), 'Física:',float(loss3),\"Traning Loss:\",float(loss.data))"
      ]
    },
    {
      "cell_type": "markdown",
      "metadata": {
        "id": "mkiR2Gj0iAlM"
      },
      "source": [
        "## **Ejercicio 5: Ecuación de Kardar-Parisi-Zhang** (Burgers potencial)"
      ]
    },
    {
      "cell_type": "markdown",
      "metadata": {
        "id": "Gg_Xu4pviaGX"
      },
      "source": [
        "La ecuación de Burgers en forma potencial puede hallarse considerando $\\overline{u} = \\overline{\\nabla}\\phi$:\n",
        "\n",
        "\\begin{equation*}\n",
        "    \\frac{\\partial \\phi}{\\partial t} + \\frac{1}{2}(\\overline{\\nabla}\\phi)^2 - \\nu \\nabla^2 \\phi.\n",
        "\\end{equation*}\n",
        "\n",
        "A partir de esto, el modelo de Kardar-Parisi-Zhang (KPZ) se obtiene mediante un cambio de variables simple para $\\phi(x,t)$ y agregando difusión y ruido al azar:\n",
        "\n",
        "\\begin{equation*}\n",
        "    \\frac{\\partial h}{\\partial t} + \\frac{\\lambda^2}{2}(\\overline{\\nabla}h)^2 - \\nu \\nabla^2 h + \\eta,\n",
        "\\end{equation*}\n",
        "\n",
        "donde $\\eta$ representa un ruido Gaussiano.\n",
        "\n",
        "Dada la versión lineal de KPZ (Burgers potencial) con forzado aleatorio\n",
        "\n",
        "\\begin{equation*}\n",
        "    \\frac{\\partial \\phi}{\\partial t} +  \\frac{1}{2}(\\frac{\\partial \\phi}{\\partial x})^2-\\nu \\frac{\\partial^2 \\phi}{\\partial x^2}+\\eta\n",
        "\\end{equation*}\n",
        "\n",
        "donde $\\eta(x,t)$ es ruido aleatorio con valor medio nulo, se pide:\n",
        "\n",
        "$\\bf a).$ Integrá la ecuación con condiciones de contorno periódicas entre $x \\in [0,2\\pi)$, partiendo de una velocidad inicial nula y un ruido aleatorio con valor medio nulo. Como integrador temporal puede usarse Runge Kutta de orden 2.\n",
        "\n",
        "\n",
        "$\\bf b).$ Graficá la evolución en $(x,t)$, la evolcuión  para distintos t ($u(x,t)$ vs $t$) y zoom sucesivos para el ultimo tiempo. Describí cualitativamente la dinámica.\n",
        "\n",
        "$\\bf c)$ Cómo recupero Burgers? Graficá al menos una solución (alcanza con una condición inicial y una evolución de la misma para un tiempo) que sea como las que obtuviste en los ejercicios anteriores. Explicá (o escribí explicitamente en tu implementacion numérica) de que forma obtuviste esta solución.\n",
        "\n",
        "\n",
        "\n",
        "\n",
        "\n"
      ]
    },
    {
      "cell_type": "markdown",
      "metadata": {
        "id": "pthUM2PJYl60"
      },
      "source": [
        "## **Bloques para la integración temporal**\n",
        "\n",
        "Pueden completar el siguiente bloque para la integración temporal.\n",
        "Tengan en cuenta que pueden reciclar bastante del ejercicio anterior"
      ]
    },
    {
      "cell_type": "code",
      "execution_count": null,
      "metadata": {
        "id": "PWOM7kblYkfT"
      },
      "outputs": [],
      "source": [
        "def evol(u,k,nu,N,dt):\n",
        "    # Evoluciona en el tiempo la PDE usando el método pseudoespectral y Runge-Kutta de segundo orden\n",
        "    f   = np.fft.rfft(u)\n",
        "    ft  = f\n",
        "    eta = compute_random(N) # Calculamos el ruido para cada iteración completa de Runge-Kutta\n",
        "    for ord in [2,1]:       # Bucle para el Runge-Kutta\n",
        "        D   = dt/ord\n",
        "        fx  = 1j*k*f        # Derivada espacial de u en el espacio Fourier\n",
        "        fnl = compute_vv(fx,N)\n",
        "        f   =               #integrador temporal\n",
        "        f[int(N/3):] = 0    # Dealiasing\n",
        "    out = np.fft.irfft(f)\n",
        "    return out\n",
        "\n",
        "def compute_vv(f,N):\n",
        "    # Calcula v^2 usando el método pseudoespectral y devuelve el resultado en el espacio Fourier\n",
        "\n",
        "    return out\n",
        "\n",
        "def compute_random(N):\n",
        "    # Genera ruido Gaussiano con media nula y varianza unitaria en el espacio Fourier\n",
        "    phase  = 2*np.pi*np.random.rand(int(N/2+1))\n",
        "    ampl   = np.random.randn(int(N/2+1))\n",
        "    out    =\n",
        "    out[0] = 0.\n",
        "    return out"
      ]
    }
  ],
  "metadata": {
    "colab": {
      "provenance": []
    },
    "kernelspec": {
      "display_name": "Python 3",
      "name": "python3"
    },
    "language_info": {
      "name": "python"
    }
  },
  "nbformat": 4,
  "nbformat_minor": 0
}
